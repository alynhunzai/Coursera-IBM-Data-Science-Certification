{
 "cells": [
  {
   "cell_type": "markdown",
   "id": "1907aacd-dd0f-47f8-bfc0-3c56d2a859fa",
   "metadata": {
    "tags": []
   },
   "source": [
    "# Data Science Tools and Ecosystem"
   ]
  },
  {
   "cell_type": "markdown",
   "id": "c9e27ea0-7a8a-4c83-b4e1-dbdc6e89a101",
   "metadata": {},
   "source": [
    "## Introduction"
   ]
  },
  {
   "cell_type": "markdown",
   "id": "6bbdc338-7184-4717-86ab-c7bb34d0832e",
   "metadata": {},
   "source": [
    "This notebook summarises Data Science Tools and Ecosystem. It'll introduce some of the most popular programming languages and libraries used by data scientists."
   ]
  },
  {
   "cell_type": "markdown",
   "id": "05c78a37-4c64-420d-a93b-0b10e4ec32c6",
   "metadata": {},
   "source": [
    "__Objectives:__"
   ]
  },
  {
   "cell_type": "markdown",
   "id": "b9c95d7f-24cb-401d-8c7a-8621f7098ec8",
   "metadata": {},
   "source": [
    "- List popular programming languages used in data science\n",
    "- List some libraries used in data science\n",
    "- Open source development tools used in data science\n",
    "- Evaluate some arithmetic expressions such as multiply, add, and convert"
   ]
  },
  {
   "cell_type": "markdown",
   "id": "e1717957-56f7-4614-87a3-866a81adb729",
   "metadata": {},
   "source": [
    "## Data Science Languages"
   ]
  },
  {
   "cell_type": "markdown",
   "id": "fb606d90-1d63-453b-8313-4985a8fc98e0",
   "metadata": {},
   "source": [
    "Some of the languages used in data science are:"
   ]
  },
  {
   "cell_type": "markdown",
   "id": "e7fa0d1e-e48b-4adc-819b-31a9490af454",
   "metadata": {},
   "source": [
    "1. Python \n",
    "2. R \n",
    "3. Julia"
   ]
  },
  {
   "cell_type": "markdown",
   "id": "2040b33d-42f5-484b-a53a-329024003236",
   "metadata": {},
   "source": [
    "## Data Science Libraries"
   ]
  },
  {
   "cell_type": "markdown",
   "id": "3fd361a6-9a0c-4b07-a7b9-2a1cb281a30c",
   "metadata": {},
   "source": [
    "Following are some libraries used in data science:"
   ]
  },
  {
   "cell_type": "markdown",
   "id": "e8ef52a4-d15e-447f-8a63-eb959ac54925",
   "metadata": {},
   "source": [
    "1. Pandas \n",
    "2. Matplotlib\n",
    "3. NumPy\n",
    "4. Scikit-learn"
   ]
  },
  {
   "cell_type": "markdown",
   "id": "21c36875-08c4-4457-8791-43997bdc9b15",
   "metadata": {},
   "source": [
    "## Data Science Tools"
   ]
  },
  {
   "cell_type": "markdown",
   "id": "2253732d-f887-4d82-a494-4a8e6ffb0468",
   "metadata": {
    "tags": []
   },
   "source": [
    "Open source tools used in data science"
   ]
  },
  {
   "cell_type": "markdown",
   "id": "090a89f1-df35-48dc-bbb4-7da22d5f26e9",
   "metadata": {},
   "source": [
    "| Data Science Tools |\n",
    "| ------------------ |\n",
    "| Jupyter Notebooks |\n",
    "| RStudio |\n",
    "| Git and Github |"
   ]
  },
  {
   "cell_type": "markdown",
   "id": "acef21c3-b864-4168-b114-218afc313d17",
   "metadata": {},
   "source": [
    "### Some examples of evaluating arithmetic expressions in Python:"
   ]
  },
  {
   "cell_type": "code",
   "execution_count": 2,
   "id": "93047db8-dc82-4e39-ae6a-bf3c24b0c419",
   "metadata": {
    "tags": []
   },
   "outputs": [
    {
     "data": {
      "text/plain": [
       "17"
      ]
     },
     "execution_count": 2,
     "metadata": {},
     "output_type": "execute_result"
    }
   ],
   "source": [
    "# This expressions multiplies and then adds integers\n",
    "(3*4)+5"
   ]
  },
  {
   "cell_type": "code",
   "execution_count": 3,
   "id": "205ca84b-b48f-4889-ac5b-c56ec6e50b40",
   "metadata": {
    "tags": []
   },
   "outputs": [
    {
     "data": {
      "text/plain": [
       "3.3333333333333335"
      ]
     },
     "execution_count": 3,
     "metadata": {},
     "output_type": "execute_result"
    }
   ],
   "source": [
    "# This expression is a simple conversion of minutes into hours\n",
    "200/60"
   ]
  },
  {
   "cell_type": "markdown",
   "id": "eca19ea1-d420-4e3c-98a3-054a53219c5a",
   "metadata": {},
   "source": [
    "## Author"
   ]
  },
  {
   "cell_type": "markdown",
   "id": "79b5d72f-07cf-47f2-ba1f-80f1842d2428",
   "metadata": {},
   "source": [
    "Noor Ali"
   ]
  }
 ],
 "metadata": {
  "kernelspec": {
   "display_name": "Python 3 (ipykernel)",
   "language": "python",
   "name": "python3"
  },
  "language_info": {
   "codemirror_mode": {
    "name": "ipython",
    "version": 3
   },
   "file_extension": ".py",
   "mimetype": "text/x-python",
   "name": "python",
   "nbconvert_exporter": "python",
   "pygments_lexer": "ipython3",
   "version": "3.10.9"
  }
 },
 "nbformat": 4,
 "nbformat_minor": 5
}
